{
  "nbformat": 4,
  "nbformat_minor": 0,
  "metadata": {
    "colab": {
      "name": "logica_de_programacao.ipynb",
      "provenance": [],
      "collapsed_sections": [
        "KzpMqiuYCuth"
      ],
      "authorship_tag": "ABX9TyMh3ZHSzaR/AHTd+HisBnBL",
      "include_colab_link": true
    },
    "kernelspec": {
      "name": "python3",
      "display_name": "Python 3"
    },
    "language_info": {
      "name": "python"
    }
  },
  "cells": [
    {
      "cell_type": "markdown",
      "metadata": {
        "id": "view-in-github",
        "colab_type": "text"
      },
      "source": [
        "<a href=\"https://colab.research.google.com/github/schreiiber/Primeiro-Projeto/blob/main/logica_de_programacao.ipynb\" target=\"_parent\"><img src=\"https://colab.research.google.com/assets/colab-badge.svg\" alt=\"Open In Colab\"/></a>"
      ]
    },
    {
      "cell_type": "markdown",
      "source": [
        "#Lógica de programação com Python"
      ],
      "metadata": {
        "id": "KzpMqiuYCuth"
      }
    },
    {
      "cell_type": "code",
      "execution_count": 1,
      "metadata": {
        "colab": {
          "base_uri": "https://localhost:8080/"
        },
        "id": "paymdcvGCW_f",
        "outputId": "cc4d0bcc-af81-4ee7-b9b9-b54717ec064c"
      },
      "outputs": [
        {
          "output_type": "execute_result",
          "data": {
            "text/plain": [
              "2"
            ]
          },
          "metadata": {},
          "execution_count": 1
        }
      ],
      "source": [
        "1+1"
      ]
    },
    {
      "cell_type": "code",
      "source": [
        "'Gabriel'"
      ],
      "metadata": {
        "colab": {
          "base_uri": "https://localhost:8080/",
          "height": 0
        },
        "id": "7iIcCXd_Cy6H",
        "outputId": "07cfce70-8ba1-42e0-a2ad-1b583c326c79"
      },
      "execution_count": 3,
      "outputs": [
        {
          "output_type": "execute_result",
          "data": {
            "text/plain": [
              "'Gabriel'"
            ],
            "application/vnd.google.colaboratory.intrinsic+json": {
              "type": "string"
            }
          },
          "metadata": {},
          "execution_count": 3
        }
      ]
    },
    {
      "cell_type": "code",
      "source": [
        "nome = 'Gabriel'"
      ],
      "metadata": {
        "id": "01f43NnTC-Dq"
      },
      "execution_count": 4,
      "outputs": []
    },
    {
      "cell_type": "code",
      "source": [
        "nome"
      ],
      "metadata": {
        "colab": {
          "base_uri": "https://localhost:8080/",
          "height": 0
        },
        "id": "3Id08r4LDhZo",
        "outputId": "d0e9444b-d927-4946-a8a7-3b25dda32bdc"
      },
      "execution_count": 5,
      "outputs": [
        {
          "output_type": "execute_result",
          "data": {
            "text/plain": [
              "'Gabriel'"
            ],
            "application/vnd.google.colaboratory.intrinsic+json": {
              "type": "string"
            }
          },
          "metadata": {},
          "execution_count": 5
        }
      ]
    },
    {
      "cell_type": "code",
      "source": [
        "idade = 23"
      ],
      "metadata": {
        "id": "hs3p6Tu3Dkm6"
      },
      "execution_count": 6,
      "outputs": []
    },
    {
      "cell_type": "code",
      "source": [
        "idade"
      ],
      "metadata": {
        "colab": {
          "base_uri": "https://localhost:8080/"
        },
        "id": "1CtEWzvlDn85",
        "outputId": "bb950801-5798-4eb7-e9a1-3133e1cb97ec"
      },
      "execution_count": 7,
      "outputs": [
        {
          "output_type": "execute_result",
          "data": {
            "text/plain": [
              "23"
            ]
          },
          "metadata": {},
          "execution_count": 7
        }
      ]
    },
    {
      "cell_type": "code",
      "source": [
        "print(f'O nome é {nome} e ele tem {idade}')"
      ],
      "metadata": {
        "colab": {
          "base_uri": "https://localhost:8080/"
        },
        "id": "X0To-ENHDpqk",
        "outputId": "aacdf7fa-7318-4441-d2c1-aeeb6d5dfd3d"
      },
      "execution_count": 12,
      "outputs": [
        {
          "output_type": "stream",
          "name": "stdout",
          "text": [
            "O nome é Gabriel e ele tem 23\n"
          ]
        }
      ]
    },
    {
      "cell_type": "code",
      "source": [
        ""
      ],
      "metadata": {
        "id": "SGHZr-koD9HX"
      },
      "execution_count": null,
      "outputs": []
    },
    {
      "cell_type": "markdown",
      "source": [
        "# Criando uma função"
      ],
      "metadata": {
        "id": "Uei5J4hJEjxS"
      }
    },
    {
      "cell_type": "code",
      "source": [
        "def saldacao():\n",
        "  nome = input('Qual o seu nome? ')\n",
        "  print(f'Olá {nome}!')"
      ],
      "metadata": {
        "id": "D4pM5BQqEtZn"
      },
      "execution_count": 20,
      "outputs": []
    },
    {
      "cell_type": "code",
      "source": [
        "saldacao()"
      ],
      "metadata": {
        "colab": {
          "base_uri": "https://localhost:8080/"
        },
        "id": "Y42FFY3HF6uB",
        "outputId": "aa237c51-dd53-4ad5-a27d-d114673d6b56"
      },
      "execution_count": 21,
      "outputs": [
        {
          "output_type": "stream",
          "name": "stdout",
          "text": [
            "Qual o seu nome? Gabriel\n",
            "Olá Gabriel!\n"
          ]
        }
      ]
    },
    {
      "cell_type": "markdown",
      "source": [
        "## Parâmetro"
      ],
      "metadata": {
        "id": "DdJMwtmCJf38"
      }
    },
    {
      "cell_type": "code",
      "source": [
        "nome = 'Célia'"
      ],
      "metadata": {
        "id": "Qp8-r35OF80H"
      },
      "execution_count": 22,
      "outputs": []
    },
    {
      "cell_type": "code",
      "source": [
        "def saudacao_parametro(nome_da_pessoa):\n",
        "  print(f'Olá {nome_da_pessoa}')"
      ],
      "metadata": {
        "id": "QDnHgPYeIpWE"
      },
      "execution_count": 23,
      "outputs": []
    },
    {
      "cell_type": "code",
      "source": [
        "saudacao_parametro(nome)"
      ],
      "metadata": {
        "colab": {
          "base_uri": "https://localhost:8080/"
        },
        "id": "mHsr2HdcI7rS",
        "outputId": "a3b385ad-2585-4a7d-84dd-dcd2f585973e"
      },
      "execution_count": 24,
      "outputs": [
        {
          "output_type": "stream",
          "name": "stdout",
          "text": [
            "Olá Célia\n"
          ]
        }
      ]
    },
    {
      "cell_type": "markdown",
      "source": [
        "## Condicional"
      ],
      "metadata": {
        "id": "6NvJDKGSKadk"
      }
    },
    {
      "cell_type": "code",
      "source": [
        "idade = 17"
      ],
      "metadata": {
        "id": "urvBtjS2LTA8"
      },
      "execution_count": 32,
      "outputs": []
    },
    {
      "cell_type": "code",
      "source": [
        "def verifica_pode_dirigir(idade):\n",
        "  if idade >= 18:\n",
        "    print('Esta pessoa pode dirigir')\n",
        "  else:\n",
        "    print('Esta pessoa não pode dirigir')"
      ],
      "metadata": {
        "id": "9CrZWgqpKukt"
      },
      "execution_count": 29,
      "outputs": []
    },
    {
      "cell_type": "code",
      "source": [
        "verifica_pode_dirigir(idade)"
      ],
      "metadata": {
        "colab": {
          "base_uri": "https://localhost:8080/"
        },
        "id": "rNpp9CKOLLF0",
        "outputId": "8aa0dbd1-b906-4616-ae0d-548eeb7214e0"
      },
      "execution_count": 33,
      "outputs": [
        {
          "output_type": "stream",
          "name": "stdout",
          "text": [
            "Esta pessoa não pode dirigir\n"
          ]
        }
      ]
    },
    {
      "cell_type": "code",
      "source": [
        "def verifica_pode_dirigir_sem_parametro():\n",
        "  idade = input('Qual sua idade? ')\n",
        "  idade = int(idade)\n",
        "  if idade >= 18:\n",
        "    print('Esta pessoa pode dirigir')\n",
        "  else:\n",
        "    print('Esta pessoa não pode dirigir')"
      ],
      "metadata": {
        "id": "dZg_mEhELiHO"
      },
      "execution_count": 34,
      "outputs": []
    },
    {
      "cell_type": "code",
      "source": [
        "verifica_pode_dirigir_sem_parametro()"
      ],
      "metadata": {
        "colab": {
          "base_uri": "https://localhost:8080/"
        },
        "id": "mcN-HyZDMje1",
        "outputId": "39e8cf81-2e31-4373-c1eb-c82ccc27bafe"
      },
      "execution_count": 35,
      "outputs": [
        {
          "output_type": "stream",
          "name": "stdout",
          "text": [
            "Qual sua idade? 23\n",
            "Esta pessoa pode dirigir\n"
          ]
        }
      ]
    },
    {
      "cell_type": "markdown",
      "source": [
        "## Lista"
      ],
      "metadata": {
        "id": "iCeS9-NeM5oc"
      }
    },
    {
      "cell_type": "code",
      "source": [
        "idades = [10, 30, 25, 16, 23]\n",
        "type(idades)"
      ],
      "metadata": {
        "colab": {
          "base_uri": "https://localhost:8080/"
        },
        "id": "-4UF1C30OBUf",
        "outputId": "bdc1f39e-9d66-4ea4-90fb-f86c21043c58"
      },
      "execution_count": 36,
      "outputs": [
        {
          "output_type": "execute_result",
          "data": {
            "text/plain": [
              "list"
            ]
          },
          "metadata": {},
          "execution_count": 36
        }
      ]
    },
    {
      "cell_type": "code",
      "source": [
        "idades[4]"
      ],
      "metadata": {
        "colab": {
          "base_uri": "https://localhost:8080/"
        },
        "id": "ZH1NjTT-ObSN",
        "outputId": "9cce7739-eebf-49e7-93da-21d2928942bf"
      },
      "execution_count": 37,
      "outputs": [
        {
          "output_type": "execute_result",
          "data": {
            "text/plain": [
              "23"
            ]
          },
          "metadata": {},
          "execution_count": 37
        }
      ]
    },
    {
      "cell_type": "code",
      "source": [
        "idades[0:2]"
      ],
      "metadata": {
        "colab": {
          "base_uri": "https://localhost:8080/"
        },
        "id": "I4gOjBemOiXN",
        "outputId": "2d11882b-b83a-4d7f-8ea8-5e68ad877da0"
      },
      "execution_count": 38,
      "outputs": [
        {
          "output_type": "execute_result",
          "data": {
            "text/plain": [
              "[10, 30]"
            ]
          },
          "metadata": {},
          "execution_count": 38
        }
      ]
    },
    {
      "cell_type": "code",
      "source": [
        "idades[0:4]"
      ],
      "metadata": {
        "colab": {
          "base_uri": "https://localhost:8080/"
        },
        "id": "G63FAz4VOvb4",
        "outputId": "a99171fc-2231-4a8d-d4a6-d00ea68952e6"
      },
      "execution_count": 39,
      "outputs": [
        {
          "output_type": "execute_result",
          "data": {
            "text/plain": [
              "[10, 30, 25, 16]"
            ]
          },
          "metadata": {},
          "execution_count": 39
        }
      ]
    },
    {
      "cell_type": "code",
      "source": [
        "idades[2:]"
      ],
      "metadata": {
        "colab": {
          "base_uri": "https://localhost:8080/"
        },
        "id": "L_CVosnlO2Zt",
        "outputId": "8dbdbe6c-b6bf-4210-8dbd-0977203acb85"
      },
      "execution_count": 40,
      "outputs": [
        {
          "output_type": "execute_result",
          "data": {
            "text/plain": [
              "[25, 16, 23]"
            ]
          },
          "metadata": {},
          "execution_count": 40
        }
      ]
    },
    {
      "cell_type": "code",
      "source": [
        "idades[-2]"
      ],
      "metadata": {
        "colab": {
          "base_uri": "https://localhost:8080/"
        },
        "id": "sA-8gWDmO9BU",
        "outputId": "ccfe359f-c4ca-4d4c-e7d5-161b4939c6e0"
      },
      "execution_count": 41,
      "outputs": [
        {
          "output_type": "execute_result",
          "data": {
            "text/plain": [
              "16"
            ]
          },
          "metadata": {},
          "execution_count": 41
        }
      ]
    },
    {
      "cell_type": "code",
      "source": [
        "idades[-3:]"
      ],
      "metadata": {
        "colab": {
          "base_uri": "https://localhost:8080/"
        },
        "id": "0DvWT8yoPBHT",
        "outputId": "65c64740-4c52-4a90-f8b2-1ea282d3baca"
      },
      "execution_count": 42,
      "outputs": [
        {
          "output_type": "execute_result",
          "data": {
            "text/plain": [
              "[25, 16, 23]"
            ]
          },
          "metadata": {},
          "execution_count": 42
        }
      ]
    },
    {
      "cell_type": "markdown",
      "source": [
        "## Laços e Loops"
      ],
      "metadata": {
        "id": "0CYCQdoHPkdb"
      }
    },
    {
      "cell_type": "code",
      "source": [
        "def verifica_se_pode_dirigir(idade):\n",
        "  if idade >= 18:\n",
        "    print(f'{idade} anos de idade, Tem permissão para dirigir')\n",
        "  else:\n",
        "    print(f'{idade} anos de idade, Não tem permissão para dirigir')\n",
        "\n",
        "for idade in idades:\n",
        "  verifica_se_pode_dirigir(idade)"
      ],
      "metadata": {
        "colab": {
          "base_uri": "https://localhost:8080/"
        },
        "id": "gX2nH4hVPLwz",
        "outputId": "b36b65b3-a051-45d4-8a6b-9ad372fb312b"
      },
      "execution_count": 45,
      "outputs": [
        {
          "output_type": "stream",
          "name": "stdout",
          "text": [
            "10 anos de idade, Não tem permissão para dirigir\n",
            "30 anos de idade, Tem permissão para dirigir\n",
            "25 anos de idade, Tem permissão para dirigir\n",
            "16 anos de idade, Não tem permissão para dirigir\n",
            "23 anos de idade, Tem permissão para dirigir\n"
          ]
        }
      ]
    },
    {
      "cell_type": "code",
      "source": [
        "def verifica_se_pode_dirigir(idades):\n",
        "  for i in idades:\n",
        "    if i >= 18:\n",
        "      print(f'{i} anos de idade. Tem permissão para dirigir')\n",
        "    else:\n",
        "      print(f'{i} anos de idade. Não tem permissão para dirigir')\n",
        "\n",
        "verifica_se_pode_dirigir(idades)"
      ],
      "metadata": {
        "colab": {
          "base_uri": "https://localhost:8080/"
        },
        "id": "vPAm8XY8QPCb",
        "outputId": "6b300aa0-9e2d-4b75-c83c-11c42aa4e629"
      },
      "execution_count": 49,
      "outputs": [
        {
          "output_type": "stream",
          "name": "stdout",
          "text": [
            "10 anos de idade. Não tem permissão para dirigir\n",
            "30 anos de idade. Tem permissão para dirigir\n",
            "25 anos de idade. Tem permissão para dirigir\n",
            "16 anos de idade. Não tem permissão para dirigir\n",
            "23 anos de idade. Tem permissão para dirigir\n"
          ]
        }
      ]
    },
    {
      "cell_type": "markdown",
      "source": [
        "# Boleano"
      ],
      "metadata": {
        "id": "-KmHzo9fT3Ug"
      }
    },
    {
      "cell_type": "code",
      "source": [
        "numero = 10\n",
        "numero >= 10"
      ],
      "metadata": {
        "colab": {
          "base_uri": "https://localhost:8080/"
        },
        "id": "F2GuoUbNRPy_",
        "outputId": "b3bb475d-40d9-4c13-9890-ae4ace843819"
      },
      "execution_count": 50,
      "outputs": [
        {
          "output_type": "execute_result",
          "data": {
            "text/plain": [
              "True"
            ]
          },
          "metadata": {},
          "execution_count": 50
        }
      ]
    },
    {
      "cell_type": "code",
      "source": [
        "permissoes = []\n",
        "idades = [10, 15, 20, 18, 16, 30, 27, 44, 80, 55]\n",
        "\n",
        "def verifica_pode_dirigir(idade, permissoes):\n",
        "  for idade in idades:\n",
        "    if idade >= 18:\n",
        "      permissoes.append(True)\n",
        "    else:\n",
        "      permissoes.append(False)\n",
        "\n",
        "verifica_pode_dirigir(idade, permissoes)"
      ],
      "metadata": {
        "id": "koJwBGhXUGVi"
      },
      "execution_count": 56,
      "outputs": []
    },
    {
      "cell_type": "code",
      "source": [
        "permissoes"
      ],
      "metadata": {
        "colab": {
          "base_uri": "https://localhost:8080/"
        },
        "id": "_RfzL6uoU_V5",
        "outputId": "832d4a6a-1ab6-456c-a09d-71d01e1009b0"
      },
      "execution_count": 57,
      "outputs": [
        {
          "output_type": "execute_result",
          "data": {
            "text/plain": [
              "[False, False, True, True, False, True, True, True, True, True]"
            ]
          },
          "metadata": {},
          "execution_count": 57
        }
      ]
    },
    {
      "cell_type": "code",
      "source": [
        "for permissao in permissoes:\n",
        "  if permissao == True:\n",
        "    print('Tem permissão para dirigir')\n",
        "  else:\n",
        "    print('Não tem permissão para dirigir')"
      ],
      "metadata": {
        "colab": {
          "base_uri": "https://localhost:8080/"
        },
        "id": "hHx4QYRsVhJk",
        "outputId": "14e1c54e-9f34-4265-de6d-83aed73a3995"
      },
      "execution_count": 60,
      "outputs": [
        {
          "output_type": "stream",
          "name": "stdout",
          "text": [
            "Não tem permissão para dirigir\n",
            "Não tem permissão para dirigir\n",
            "Tem permissão para dirigir\n",
            "Tem permissão para dirigir\n",
            "Não tem permissão para dirigir\n",
            "Tem permissão para dirigir\n",
            "Tem permissão para dirigir\n",
            "Tem permissão para dirigir\n",
            "Tem permissão para dirigir\n",
            "Tem permissão para dirigir\n"
          ]
        }
      ]
    },
    {
      "cell_type": "markdown",
      "source": [
        "# Tipos em uma lista"
      ],
      "metadata": {
        "id": "3g2-um18Xt7H"
      }
    },
    {
      "cell_type": "code",
      "source": [
        "lista = ['Gabriel', 18, True, '23']\n",
        "\n",
        "for elemento in lista:\n",
        "  print(f'O elemento {elemento} é do tipo: ', type(elemento))"
      ],
      "metadata": {
        "colab": {
          "base_uri": "https://localhost:8080/"
        },
        "id": "b4TR9pdzV3eY",
        "outputId": "09f00436-ecf5-411d-b975-97a9e9e8383c"
      },
      "execution_count": 61,
      "outputs": [
        {
          "output_type": "stream",
          "name": "stdout",
          "text": [
            "O elemento Gabriel é do tipo:  <class 'str'>\n",
            "O elemento 18 é do tipo:  <class 'int'>\n",
            "O elemento True é do tipo:  <class 'bool'>\n",
            "O elemento 23 é do tipo:  <class 'str'>\n"
          ]
        }
      ]
    },
    {
      "cell_type": "markdown",
      "source": [
        "## Import"
      ],
      "metadata": {
        "id": "5LHAgsnNOLqC"
      }
    },
    {
      "cell_type": "code",
      "source": [
        "from random import randrange, seed"
      ],
      "metadata": {
        "id": "y422dg62YPak"
      },
      "execution_count": 17,
      "outputs": []
    },
    {
      "cell_type": "code",
      "source": [
        "seed(10) #manipula a sequência de geração de números aleatórios, sempre que for executado reinicia essa mesma sequência de números"
      ],
      "metadata": {
        "id": "lXFERGGFPQDh"
      },
      "execution_count": 52,
      "outputs": []
    },
    {
      "cell_type": "code",
      "source": [
        "randrange(0,11)"
      ],
      "metadata": {
        "colab": {
          "base_uri": "https://localhost:8080/"
        },
        "id": "OHWKeKmbOX9v",
        "outputId": "b5c3d0e9-f657-4a09-8086-9b8abacd169b"
      },
      "execution_count": 57,
      "outputs": [
        {
          "output_type": "execute_result",
          "data": {
            "text/plain": [
              "9"
            ]
          },
          "metadata": {},
          "execution_count": 57
        }
      ]
    },
    {
      "cell_type": "code",
      "source": [
        "notas_matematica = []\n",
        "\n",
        "for notas in range(8):\n",
        "  notas_matematica.append(randrange(0,11))\n",
        "  \n",
        "notas_matematica"
      ],
      "metadata": {
        "colab": {
          "base_uri": "https://localhost:8080/"
        },
        "id": "wWr0GqkyOmv6",
        "outputId": "5f7d5830-1778-41b8-e007-800377198333"
      },
      "execution_count": 76,
      "outputs": [
        {
          "output_type": "execute_result",
          "data": {
            "text/plain": [
              "[8, 7, 5, 1, 3, 5, 0, 6]"
            ]
          },
          "metadata": {},
          "execution_count": 76
        }
      ]
    },
    {
      "cell_type": "markdown",
      "source": [
        "# Matplotlib"
      ],
      "metadata": {
        "id": "EREuE_AhR3k7"
      }
    },
    {
      "cell_type": "code",
      "source": [
        "import matplotlib.pyplot as plt"
      ],
      "metadata": {
        "id": "kwRmORLrPMsl"
      },
      "execution_count": 58,
      "outputs": []
    },
    {
      "cell_type": "code",
      "source": [
        "x = list(range(1,9))              # var x: cria uma sequência no eixo \"X\" de 1-8, neste caso o número de provas \n",
        "y = notas_matematica              # var y: cria uma sequência das notas das provas no eixo \"Y\"\n",
        "plt.plot(x, y, marker='o')        # cria o gráfico/plota, com os parâmetros das variáveis \"X\" e \"Y\", \"marker='o'\" define pontos (no gráfico de linha)\n",
        "plt.title('Notas de Matemáttica') # cria o Titulo da tabela\n",
        "plt.xlabel('Provas')              # xlabel cria uma legenda para o numero de provas\n",
        "plt.ylabel('Notas')               # ylabel cria uma legenda para as notas das provas\n",
        "plt.show()                        # Tira a \"legenda padrão do grafico\" X[<matplotlib.lines.Line2D at 0x7f1b2ea5c2d0>]X"
      ],
      "metadata": {
        "colab": {
          "base_uri": "https://localhost:8080/",
          "height": 294
        },
        "id": "BvU2gE88SJ9R",
        "outputId": "cca8d38a-4508-46e1-c709-e1bebcf5f672"
      },
      "execution_count": 77,
      "outputs": [
        {
          "output_type": "display_data",
          "data": {
            "text/plain": [
              "<Figure size 432x288 with 1 Axes>"
            ],
            "image/png": "[encoded data removed]"
          },
          "metadata": {
            "needs_background": "light"
          }
        }
      ]
    },
    {
      "cell_type": "code",
      "source": [
        ""
      ],
      "metadata": {
        "id": "HTdOm_MlSz8O"
      },
      "execution_count": null,
      "outputs": []
    }
  ]
}